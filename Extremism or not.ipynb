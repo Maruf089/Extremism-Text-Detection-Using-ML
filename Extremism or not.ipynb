{
  "nbformat": 4,
  "nbformat_minor": 0,
  "metadata": {
    "colab": {
      "name": "Testing.ipynb",
      "provenance": [],
      "collapsed_sections": []
    },
    "kernelspec": {
      "name": "python3",
      "display_name": "Python 3"
    }
  },
  "cells": [
    {
      "cell_type": "code",
      "metadata": {
        "id": "__55GjhAqnb4"
      },
      "source": [
        "from google.colab import drive"
      ],
      "execution_count": null,
      "outputs": []
    },
    {
      "cell_type": "code",
      "metadata": {
        "colab": {
          "base_uri": "https://localhost:8080/"
        },
        "id": "AJLMZwiWq2HZ",
        "outputId": "0c56b891-5ff6-4ca2-958a-fb061caa8975"
      },
      "source": [
        "drive.mount('/content/drive')"
      ],
      "execution_count": null,
      "outputs": [
        {
          "output_type": "stream",
          "text": [
            "Drive already mounted at /content/drive; to attempt to forcibly remount, call drive.mount(\"/content/drive\", force_remount=True).\n"
          ],
          "name": "stdout"
        }
      ]
    },
    {
      "cell_type": "code",
      "metadata": {
        "id": "wLrJTT2fq_ex"
      },
      "source": [
        "import pandas as pd"
      ],
      "execution_count": null,
      "outputs": []
    },
    {
      "cell_type": "code",
      "metadata": {
        "id": "x_snzM6NsJYF"
      },
      "source": [
        "dataset = pd.read_csv('/content/drive/MyDrive/DATASET/dataset_testing11.csv')"
      ],
      "execution_count": 155,
      "outputs": []
    },
    {
      "cell_type": "code",
      "metadata": {
        "colab": {
          "base_uri": "https://localhost:8080/"
        },
        "id": "KLnBj0V4sNv6",
        "outputId": "5dc9ed3b-0360-45ec-fade-d55ace637314"
      },
      "source": [
        "print(dataset.head())\r\n",
        "print(dataset.info())"
      ],
      "execution_count": null,
      "outputs": [
        {
          "output_type": "stream",
          "text": [
            "       Label                                               Text\n",
            "0  Extremism  শিক্ষার্থীদের আন্দোলনকে ভিন্নখাতে নিতে নৈরাজ্য...\n",
            "1  Extremism  মাননীয় প্রধান মন্ত্রী,,কোন আইন আপনার সুশাসনে প...\n",
            "2  Extremism  নৈরাজ্য সৃষ্টি করে দূর্নীতিবাজ তারেক রহমানকে র...\n",
            "3  Extremism  বাংলাদেশ নামটা পরিবতন করে আওয়ামি লীগ দেশ করা দ...\n",
            "4  Extremism                      সময় টিভি আওয়ামী লীগের দালাল\n",
            "<class 'pandas.core.frame.DataFrame'>\n",
            "RangeIndex: 12 entries, 0 to 11\n",
            "Data columns (total 2 columns):\n",
            " #   Column  Non-Null Count  Dtype \n",
            "---  ------  --------------  ----- \n",
            " 0   Label   12 non-null     object\n",
            " 1   Text    12 non-null     object\n",
            "dtypes: object(2)\n",
            "memory usage: 320.0+ bytes\n",
            "None\n"
          ],
          "name": "stdout"
        }
      ]
    },
    {
      "cell_type": "code",
      "metadata": {
        "id": "vcoBVB_6sP3W"
      },
      "source": [
        "X = dataset.drop([\"Label\"],axis=1)\r\n",
        "y = dataset[\"Label\"]"
      ],
      "execution_count": null,
      "outputs": []
    },
    {
      "cell_type": "code",
      "metadata": {
        "colab": {
          "base_uri": "https://localhost:8080/",
          "height": 421
        },
        "id": "92Qj9BeltDgx",
        "outputId": "629806d3-0d95-439f-932d-419861609d53"
      },
      "source": [
        "X"
      ],
      "execution_count": null,
      "outputs": [
        {
          "output_type": "execute_result",
          "data": {
            "text/html": [
              "<div>\n",
              "<style scoped>\n",
              "    .dataframe tbody tr th:only-of-type {\n",
              "        vertical-align: middle;\n",
              "    }\n",
              "\n",
              "    .dataframe tbody tr th {\n",
              "        vertical-align: top;\n",
              "    }\n",
              "\n",
              "    .dataframe thead th {\n",
              "        text-align: right;\n",
              "    }\n",
              "</style>\n",
              "<table border=\"1\" class=\"dataframe\">\n",
              "  <thead>\n",
              "    <tr style=\"text-align: right;\">\n",
              "      <th></th>\n",
              "      <th>Text</th>\n",
              "    </tr>\n",
              "  </thead>\n",
              "  <tbody>\n",
              "    <tr>\n",
              "      <th>0</th>\n",
              "      <td>শিক্ষার্থীদের আন্দোলনকে ভিন্নখাতে নিতে নৈরাজ্য...</td>\n",
              "    </tr>\n",
              "    <tr>\n",
              "      <th>1</th>\n",
              "      <td>মাননীয় প্রধান মন্ত্রী,,কোন আইন আপনার সুশাসনে প...</td>\n",
              "    </tr>\n",
              "    <tr>\n",
              "      <th>2</th>\n",
              "      <td>নৈরাজ্য সৃষ্টি করে দূর্নীতিবাজ তারেক রহমানকে র...</td>\n",
              "    </tr>\n",
              "    <tr>\n",
              "      <th>3</th>\n",
              "      <td>বাংলাদেশ নামটা পরিবতন করে আওয়ামি লীগ দেশ করা দ...</td>\n",
              "    </tr>\n",
              "    <tr>\n",
              "      <th>4</th>\n",
              "      <td>সময় টিভি আওয়ামী লীগের দালাল</td>\n",
              "    </tr>\n",
              "    <tr>\n",
              "      <th>5</th>\n",
              "      <td>সতর্ক টাইগাররা</td>\n",
              "    </tr>\n",
              "    <tr>\n",
              "      <th>6</th>\n",
              "      <td>ব্র্যাথওয়েট ‘শো’ দেখলো ক্রিকেট</td>\n",
              "    </tr>\n",
              "    <tr>\n",
              "      <th>7</th>\n",
              "      <td>নাজমুলের ক্যারিয়ারের প্রথম ফিফটি</td>\n",
              "    </tr>\n",
              "    <tr>\n",
              "      <th>8</th>\n",
              "      <td>হ্যাটট্রিক হয়ে গেছে বুঝতেই পারেননি তাহির!</td>\n",
              "    </tr>\n",
              "    <tr>\n",
              "      <th>9</th>\n",
              "      <td>বয়স গোপন করায় ভারতীয় ক্রিকেটার নিষিদ্ধ!</td>\n",
              "    </tr>\n",
              "    <tr>\n",
              "      <th>10</th>\n",
              "      <td>বড় ভাই'দের মতোই ভারতের কাছে হারল যুবারা!</td>\n",
              "    </tr>\n",
              "    <tr>\n",
              "      <th>11</th>\n",
              "      <td>অভিষেক টেস্টেই সব রেকর্ড ওলট পালট করে দিলেন পৃ...</td>\n",
              "    </tr>\n",
              "  </tbody>\n",
              "</table>\n",
              "</div>"
            ],
            "text/plain": [
              "                                                 Text\n",
              "0   শিক্ষার্থীদের আন্দোলনকে ভিন্নখাতে নিতে নৈরাজ্য...\n",
              "1   মাননীয় প্রধান মন্ত্রী,,কোন আইন আপনার সুশাসনে প...\n",
              "2   নৈরাজ্য সৃষ্টি করে দূর্নীতিবাজ তারেক রহমানকে র...\n",
              "3   বাংলাদেশ নামটা পরিবতন করে আওয়ামি লীগ দেশ করা দ...\n",
              "4                       সময় টিভি আওয়ামী লীগের দালাল\n",
              "5                                      সতর্ক টাইগাররা\n",
              "6                      ব্র্যাথওয়েট ‘শো’ দেখলো ক্রিকেট\n",
              "7                    নাজমুলের ক্যারিয়ারের প্রথম ফিফটি\n",
              "8           হ্যাটট্রিক হয়ে গেছে বুঝতেই পারেননি তাহির!\n",
              "9             বয়স গোপন করায় ভারতীয় ক্রিকেটার নিষিদ্ধ!\n",
              "10           বড় ভাই'দের মতোই ভারতের কাছে হারল যুবারা!\n",
              "11  অভিষেক টেস্টেই সব রেকর্ড ওলট পালট করে দিলেন পৃ..."
            ]
          },
          "metadata": {
            "tags": []
          },
          "execution_count": 128
        }
      ]
    },
    {
      "cell_type": "code",
      "metadata": {
        "colab": {
          "base_uri": "https://localhost:8080/"
        },
        "id": "TbicAachv6L-",
        "outputId": "6b6b0bb6-4459-4d99-e96c-ddfce3cbba6a"
      },
      "source": [
        "y"
      ],
      "execution_count": null,
      "outputs": [
        {
          "output_type": "execute_result",
          "data": {
            "text/plain": [
              "0         Extremism\n",
              "1         Extremism\n",
              "2         Extremism\n",
              "3         Extremism\n",
              "4         Extremism\n",
              "5     Not-Extremism\n",
              "6     Not-Extremism\n",
              "7     Not-Extremism\n",
              "8     Not-Extremism\n",
              "9     Not-Extremism\n",
              "10    Not-Extremism\n",
              "11    Not-Extremism\n",
              "Name: Label, dtype: object"
            ]
          },
          "metadata": {
            "tags": []
          },
          "execution_count": 129
        }
      ]
    },
    {
      "cell_type": "code",
      "metadata": {
        "colab": {
          "base_uri": "https://localhost:8080/"
        },
        "id": "c-6aObpzv7Bc",
        "outputId": "3da58547-218f-4517-d465-26e0cbc1bb0c"
      },
      "source": [
        "from sklearn.preprocessing import LabelEncoder\r\n",
        "\r\n",
        "# convert class labels to binary values, 0 = ham and 1 = spam\r\n",
        "encoder = LabelEncoder()\r\n",
        "Y = encoder.fit_transform(y)\r\n",
        "\r\n",
        "print(Y)"
      ],
      "execution_count": null,
      "outputs": [
        {
          "output_type": "stream",
          "text": [
            "[0 0 0 0 0 1 1 1 1 1 1 1]\n"
          ],
          "name": "stdout"
        }
      ]
    },
    {
      "cell_type": "code",
      "metadata": {
        "colab": {
          "base_uri": "https://localhost:8080/"
        },
        "id": "N9AZ0oWFwIsK",
        "outputId": "11298383-9075-4357-afc1-bbb7476da575"
      },
      "source": [
        "pip install bnlp_toolkit"
      ],
      "execution_count": null,
      "outputs": [
        {
          "output_type": "stream",
          "text": [
            "Collecting bnlp_toolkit\n",
            "  Downloading https://files.pythonhosted.org/packages/16/be/44d78b55ad8121cce1ca0bdbc7cf1db8d3f585006bacb08bd53ec8653957/bnlp_toolkit-3.0.0-py3-none-any.whl\n",
            "Requirement already satisfied: scipy in /usr/local/lib/python3.7/dist-packages (from bnlp_toolkit) (1.4.1)\n",
            "Requirement already satisfied: numpy in /usr/local/lib/python3.7/dist-packages (from bnlp_toolkit) (1.19.5)\n",
            "Requirement already satisfied: gensim in /usr/local/lib/python3.7/dist-packages (from bnlp_toolkit) (3.6.0)\n",
            "Collecting sentencepiece\n",
            "\u001b[?25l  Downloading https://files.pythonhosted.org/packages/f5/99/e0808cb947ba10f575839c43e8fafc9cc44e4a7a2c8f79c60db48220a577/sentencepiece-0.1.95-cp37-cp37m-manylinux2014_x86_64.whl (1.2MB)\n",
            "\u001b[K     |████████████████████████████████| 1.2MB 5.8MB/s \n",
            "\u001b[?25hRequirement already satisfied: nltk in /usr/local/lib/python3.7/dist-packages (from bnlp_toolkit) (3.2.5)\n",
            "Collecting sklearn-crfsuite\n",
            "  Downloading https://files.pythonhosted.org/packages/25/74/5b7befa513482e6dee1f3dd68171a6c9dfc14c0eaa00f885ffeba54fe9b0/sklearn_crfsuite-0.3.6-py2.py3-none-any.whl\n",
            "Requirement already satisfied: six>=1.5.0 in /usr/local/lib/python3.7/dist-packages (from gensim->bnlp_toolkit) (1.15.0)\n",
            "Requirement already satisfied: smart-open>=1.2.1 in /usr/local/lib/python3.7/dist-packages (from gensim->bnlp_toolkit) (4.2.0)\n",
            "Requirement already satisfied: tqdm>=2.0 in /usr/local/lib/python3.7/dist-packages (from sklearn-crfsuite->bnlp_toolkit) (4.41.1)\n",
            "Collecting python-crfsuite>=0.8.3\n",
            "\u001b[?25l  Downloading https://files.pythonhosted.org/packages/79/47/58f16c46506139f17de4630dbcfb877ce41a6355a1bbf3c443edb9708429/python_crfsuite-0.9.7-cp37-cp37m-manylinux1_x86_64.whl (743kB)\n",
            "\u001b[K     |████████████████████████████████| 747kB 24.8MB/s \n",
            "\u001b[?25hRequirement already satisfied: tabulate in /usr/local/lib/python3.7/dist-packages (from sklearn-crfsuite->bnlp_toolkit) (0.8.9)\n",
            "Installing collected packages: sentencepiece, python-crfsuite, sklearn-crfsuite, bnlp-toolkit\n",
            "Successfully installed bnlp-toolkit-3.0.0 python-crfsuite-0.9.7 sentencepiece-0.1.95 sklearn-crfsuite-0.3.6\n"
          ],
          "name": "stdout"
        }
      ]
    },
    {
      "cell_type": "code",
      "metadata": {
        "colab": {
          "base_uri": "https://localhost:8080/"
        },
        "id": "wcKCf798yDbC",
        "outputId": "3b7d8165-2784-481a-ccb2-6c812bf382d8"
      },
      "source": [
        "pip install BnPreprocessing"
      ],
      "execution_count": null,
      "outputs": [
        {
          "output_type": "stream",
          "text": [
            "Collecting BnPreprocessing\n",
            "  Downloading https://files.pythonhosted.org/packages/16/c1/843d1da9333b638724d31f5c88a683ad55e8492898863d8881a4f5b57bc9/BnPreprocessing-2.8-py3-none-any.whl\n",
            "Installing collected packages: BnPreprocessing\n",
            "Successfully installed BnPreprocessing-2.8\n"
          ],
          "name": "stdout"
        }
      ]
    },
    {
      "cell_type": "code",
      "metadata": {
        "id": "1e--aOVp9G53"
      },
      "source": [
        "import BnPreprocessing as pp\r\n",
        "dataset['Text'] = dataset['Text'].apply(lambda x: pp.remove_noise(str(x)))"
      ],
      "execution_count": null,
      "outputs": []
    },
    {
      "cell_type": "code",
      "metadata": {
        "colab": {
          "base_uri": "https://localhost:8080/"
        },
        "id": "kEDac-y4G8zW",
        "outputId": "5dd2b092-ae45-4a7f-f7aa-0cb51f325192"
      },
      "source": [
        "dataset['Text']"
      ],
      "execution_count": null,
      "outputs": [
        {
          "output_type": "execute_result",
          "data": {
            "text/plain": [
              "0     শিক্ষার্থীদের আন্দোলনকে ভিন্নখাতে নৈরাজ্য ছাত্...\n",
              "1     মাননীয় প্রধান মন্ত্রী আইন সুশাসনে পরিনত ক্ষমতা...\n",
              "2        নৈরাজ্য সৃষ্টি দূর্নীতিবাজ তারেক রহমানকে রক্ষা\n",
              "3            বাংলাদেশ নামটা পরিবতন আওয়ামি লীগ দেশ দরকার\n",
              "4                         সময় টিভি আওয়ামী লীগের দালাল\n",
              "5                                        সতর্ক টাইগাররা\n",
              "6                          ব্র্যাথওয়েট শো দেখলো ক্রিকেট\n",
              "7                            নাজমুলের ক্যারিয়ারের ফিফটি\n",
              "8                   হ্যাটট্রিক হয়ে বুঝতেই পারেননি তাহির\n",
              "9                বয়স গোপন করায় ভারতীয় ক্রিকেটার নিষিদ্ধ\n",
              "10                            বড় ভাই ভারতের হারল যুবারা\n",
              "11                অভিষেক টেস্টেই রেকর্ড ওলট পালট পৃথ্বী\n",
              "Name: Text, dtype: object"
            ]
          },
          "metadata": {
            "tags": []
          },
          "execution_count": 118
        }
      ]
    },
    {
      "cell_type": "code",
      "metadata": {
        "colab": {
          "base_uri": "https://localhost:8080/",
          "height": 340
        },
        "id": "hukim5ygKf42",
        "outputId": "1f0c8965-b8d2-485d-d46f-4a008d18fc79"
      },
      "source": [
        "## Vai The Problem is Here\r\n",
        "\r\n",
        "\r\n",
        "\r\n",
        "from sklearn import svm\r\n",
        "clf = svm.SVC()\r\n",
        "clf.fit(X, y)"
      ],
      "execution_count": 151,
      "outputs": [
        {
          "output_type": "error",
          "ename": "ValueError",
          "evalue": "ignored",
          "traceback": [
            "\u001b[0;31m---------------------------------------------------------------------------\u001b[0m",
            "\u001b[0;31mValueError\u001b[0m                                Traceback (most recent call last)",
            "\u001b[0;32m<ipython-input-151-2ac412dd41cf>\u001b[0m in \u001b[0;36m<module>\u001b[0;34m()\u001b[0m\n\u001b[1;32m      2\u001b[0m \u001b[0;32mfrom\u001b[0m \u001b[0msklearn\u001b[0m \u001b[0;32mimport\u001b[0m \u001b[0msvm\u001b[0m\u001b[0;34m\u001b[0m\u001b[0;34m\u001b[0m\u001b[0m\n\u001b[1;32m      3\u001b[0m \u001b[0mclf\u001b[0m \u001b[0;34m=\u001b[0m \u001b[0msvm\u001b[0m\u001b[0;34m.\u001b[0m\u001b[0mSVC\u001b[0m\u001b[0;34m(\u001b[0m\u001b[0;34m)\u001b[0m\u001b[0;34m\u001b[0m\u001b[0;34m\u001b[0m\u001b[0m\n\u001b[0;32m----> 4\u001b[0;31m \u001b[0mclf\u001b[0m\u001b[0;34m.\u001b[0m\u001b[0mfit\u001b[0m\u001b[0;34m(\u001b[0m\u001b[0mX\u001b[0m\u001b[0;34m,\u001b[0m \u001b[0my\u001b[0m\u001b[0;34m)\u001b[0m\u001b[0;34m\u001b[0m\u001b[0;34m\u001b[0m\u001b[0m\n\u001b[0m",
            "\u001b[0;32m/usr/local/lib/python3.7/dist-packages/sklearn/svm/_base.py\u001b[0m in \u001b[0;36mfit\u001b[0;34m(self, X, y, sample_weight)\u001b[0m\n\u001b[1;32m    146\u001b[0m         X, y = check_X_y(X, y, dtype=np.float64,\n\u001b[1;32m    147\u001b[0m                          \u001b[0morder\u001b[0m\u001b[0;34m=\u001b[0m\u001b[0;34m'C'\u001b[0m\u001b[0;34m,\u001b[0m \u001b[0maccept_sparse\u001b[0m\u001b[0;34m=\u001b[0m\u001b[0;34m'csr'\u001b[0m\u001b[0;34m,\u001b[0m\u001b[0;34m\u001b[0m\u001b[0;34m\u001b[0m\u001b[0m\n\u001b[0;32m--> 148\u001b[0;31m                          accept_large_sparse=False)\n\u001b[0m\u001b[1;32m    149\u001b[0m         \u001b[0my\u001b[0m \u001b[0;34m=\u001b[0m \u001b[0mself\u001b[0m\u001b[0;34m.\u001b[0m\u001b[0m_validate_targets\u001b[0m\u001b[0;34m(\u001b[0m\u001b[0my\u001b[0m\u001b[0;34m)\u001b[0m\u001b[0;34m\u001b[0m\u001b[0;34m\u001b[0m\u001b[0m\n\u001b[1;32m    150\u001b[0m \u001b[0;34m\u001b[0m\u001b[0m\n",
            "\u001b[0;32m/usr/local/lib/python3.7/dist-packages/sklearn/utils/validation.py\u001b[0m in \u001b[0;36mcheck_X_y\u001b[0;34m(X, y, accept_sparse, accept_large_sparse, dtype, order, copy, force_all_finite, ensure_2d, allow_nd, multi_output, ensure_min_samples, ensure_min_features, y_numeric, warn_on_dtype, estimator)\u001b[0m\n\u001b[1;32m    753\u001b[0m                     \u001b[0mensure_min_features\u001b[0m\u001b[0;34m=\u001b[0m\u001b[0mensure_min_features\u001b[0m\u001b[0;34m,\u001b[0m\u001b[0;34m\u001b[0m\u001b[0;34m\u001b[0m\u001b[0m\n\u001b[1;32m    754\u001b[0m                     \u001b[0mwarn_on_dtype\u001b[0m\u001b[0;34m=\u001b[0m\u001b[0mwarn_on_dtype\u001b[0m\u001b[0;34m,\u001b[0m\u001b[0;34m\u001b[0m\u001b[0;34m\u001b[0m\u001b[0m\n\u001b[0;32m--> 755\u001b[0;31m                     estimator=estimator)\n\u001b[0m\u001b[1;32m    756\u001b[0m     \u001b[0;32mif\u001b[0m \u001b[0mmulti_output\u001b[0m\u001b[0;34m:\u001b[0m\u001b[0;34m\u001b[0m\u001b[0;34m\u001b[0m\u001b[0m\n\u001b[1;32m    757\u001b[0m         y = check_array(y, 'csr', force_all_finite=True, ensure_2d=False,\n",
            "\u001b[0;32m/usr/local/lib/python3.7/dist-packages/sklearn/utils/validation.py\u001b[0m in \u001b[0;36mcheck_array\u001b[0;34m(array, accept_sparse, accept_large_sparse, dtype, order, copy, force_all_finite, ensure_2d, allow_nd, ensure_min_samples, ensure_min_features, warn_on_dtype, estimator)\u001b[0m\n\u001b[1;32m    529\u001b[0m                     \u001b[0marray\u001b[0m \u001b[0;34m=\u001b[0m \u001b[0marray\u001b[0m\u001b[0;34m.\u001b[0m\u001b[0mastype\u001b[0m\u001b[0;34m(\u001b[0m\u001b[0mdtype\u001b[0m\u001b[0;34m,\u001b[0m \u001b[0mcasting\u001b[0m\u001b[0;34m=\u001b[0m\u001b[0;34m\"unsafe\"\u001b[0m\u001b[0;34m,\u001b[0m \u001b[0mcopy\u001b[0m\u001b[0;34m=\u001b[0m\u001b[0;32mFalse\u001b[0m\u001b[0;34m)\u001b[0m\u001b[0;34m\u001b[0m\u001b[0;34m\u001b[0m\u001b[0m\n\u001b[1;32m    530\u001b[0m                 \u001b[0;32melse\u001b[0m\u001b[0;34m:\u001b[0m\u001b[0;34m\u001b[0m\u001b[0;34m\u001b[0m\u001b[0m\n\u001b[0;32m--> 531\u001b[0;31m                     \u001b[0marray\u001b[0m \u001b[0;34m=\u001b[0m \u001b[0mnp\u001b[0m\u001b[0;34m.\u001b[0m\u001b[0masarray\u001b[0m\u001b[0;34m(\u001b[0m\u001b[0marray\u001b[0m\u001b[0;34m,\u001b[0m \u001b[0morder\u001b[0m\u001b[0;34m=\u001b[0m\u001b[0morder\u001b[0m\u001b[0;34m,\u001b[0m \u001b[0mdtype\u001b[0m\u001b[0;34m=\u001b[0m\u001b[0mdtype\u001b[0m\u001b[0;34m)\u001b[0m\u001b[0;34m\u001b[0m\u001b[0;34m\u001b[0m\u001b[0m\n\u001b[0m\u001b[1;32m    532\u001b[0m             \u001b[0;32mexcept\u001b[0m \u001b[0mComplexWarning\u001b[0m\u001b[0;34m:\u001b[0m\u001b[0;34m\u001b[0m\u001b[0;34m\u001b[0m\u001b[0m\n\u001b[1;32m    533\u001b[0m                 raise ValueError(\"Complex data not supported\\n\"\n",
            "\u001b[0;32m/usr/local/lib/python3.7/dist-packages/numpy/core/_asarray.py\u001b[0m in \u001b[0;36masarray\u001b[0;34m(a, dtype, order)\u001b[0m\n\u001b[1;32m     81\u001b[0m \u001b[0;34m\u001b[0m\u001b[0m\n\u001b[1;32m     82\u001b[0m     \"\"\"\n\u001b[0;32m---> 83\u001b[0;31m     \u001b[0;32mreturn\u001b[0m \u001b[0marray\u001b[0m\u001b[0;34m(\u001b[0m\u001b[0ma\u001b[0m\u001b[0;34m,\u001b[0m \u001b[0mdtype\u001b[0m\u001b[0;34m,\u001b[0m \u001b[0mcopy\u001b[0m\u001b[0;34m=\u001b[0m\u001b[0;32mFalse\u001b[0m\u001b[0;34m,\u001b[0m \u001b[0morder\u001b[0m\u001b[0;34m=\u001b[0m\u001b[0morder\u001b[0m\u001b[0;34m)\u001b[0m\u001b[0;34m\u001b[0m\u001b[0;34m\u001b[0m\u001b[0m\n\u001b[0m\u001b[1;32m     84\u001b[0m \u001b[0;34m\u001b[0m\u001b[0m\n\u001b[1;32m     85\u001b[0m \u001b[0;34m\u001b[0m\u001b[0m\n",
            "\u001b[0;32m/usr/local/lib/python3.7/dist-packages/pandas/core/generic.py\u001b[0m in \u001b[0;36m__array__\u001b[0;34m(self, dtype)\u001b[0m\n\u001b[1;32m   1779\u001b[0m \u001b[0;34m\u001b[0m\u001b[0m\n\u001b[1;32m   1780\u001b[0m     \u001b[0;32mdef\u001b[0m \u001b[0m__array__\u001b[0m\u001b[0;34m(\u001b[0m\u001b[0mself\u001b[0m\u001b[0;34m,\u001b[0m \u001b[0mdtype\u001b[0m\u001b[0;34m=\u001b[0m\u001b[0;32mNone\u001b[0m\u001b[0;34m)\u001b[0m \u001b[0;34m->\u001b[0m \u001b[0mnp\u001b[0m\u001b[0;34m.\u001b[0m\u001b[0mndarray\u001b[0m\u001b[0;34m:\u001b[0m\u001b[0;34m\u001b[0m\u001b[0;34m\u001b[0m\u001b[0m\n\u001b[0;32m-> 1781\u001b[0;31m         \u001b[0;32mreturn\u001b[0m \u001b[0mnp\u001b[0m\u001b[0;34m.\u001b[0m\u001b[0masarray\u001b[0m\u001b[0;34m(\u001b[0m\u001b[0mself\u001b[0m\u001b[0;34m.\u001b[0m\u001b[0m_values\u001b[0m\u001b[0;34m,\u001b[0m \u001b[0mdtype\u001b[0m\u001b[0;34m=\u001b[0m\u001b[0mdtype\u001b[0m\u001b[0;34m)\u001b[0m\u001b[0;34m\u001b[0m\u001b[0;34m\u001b[0m\u001b[0m\n\u001b[0m\u001b[1;32m   1782\u001b[0m \u001b[0;34m\u001b[0m\u001b[0m\n\u001b[1;32m   1783\u001b[0m     \u001b[0;32mdef\u001b[0m \u001b[0m__array_wrap__\u001b[0m\u001b[0;34m(\u001b[0m\u001b[0mself\u001b[0m\u001b[0;34m,\u001b[0m \u001b[0mresult\u001b[0m\u001b[0;34m,\u001b[0m \u001b[0mcontext\u001b[0m\u001b[0;34m=\u001b[0m\u001b[0;32mNone\u001b[0m\u001b[0;34m)\u001b[0m\u001b[0;34m:\u001b[0m\u001b[0;34m\u001b[0m\u001b[0;34m\u001b[0m\u001b[0m\n",
            "\u001b[0;32m/usr/local/lib/python3.7/dist-packages/numpy/core/_asarray.py\u001b[0m in \u001b[0;36masarray\u001b[0;34m(a, dtype, order)\u001b[0m\n\u001b[1;32m     81\u001b[0m \u001b[0;34m\u001b[0m\u001b[0m\n\u001b[1;32m     82\u001b[0m     \"\"\"\n\u001b[0;32m---> 83\u001b[0;31m     \u001b[0;32mreturn\u001b[0m \u001b[0marray\u001b[0m\u001b[0;34m(\u001b[0m\u001b[0ma\u001b[0m\u001b[0;34m,\u001b[0m \u001b[0mdtype\u001b[0m\u001b[0;34m,\u001b[0m \u001b[0mcopy\u001b[0m\u001b[0;34m=\u001b[0m\u001b[0;32mFalse\u001b[0m\u001b[0;34m,\u001b[0m \u001b[0morder\u001b[0m\u001b[0;34m=\u001b[0m\u001b[0morder\u001b[0m\u001b[0;34m)\u001b[0m\u001b[0;34m\u001b[0m\u001b[0;34m\u001b[0m\u001b[0m\n\u001b[0m\u001b[1;32m     84\u001b[0m \u001b[0;34m\u001b[0m\u001b[0m\n\u001b[1;32m     85\u001b[0m \u001b[0;34m\u001b[0m\u001b[0m\n",
            "\u001b[0;31mValueError\u001b[0m: could not convert string to float: 'শিক্ষার্থীদের আন্দোলনকে ভিন্নখাতে নিতে নৈরাজ্য করছে ছাত্রলীগ'"
          ]
        }
      ]
    },
    {
      "cell_type": "code",
      "metadata": {
        "id": "ZPcKCSf4RC1W",
        "colab": {
          "base_uri": "https://localhost:8080/"
        },
        "outputId": "2eb6e706-e767-4cd1-e755-f5aa5edba038"
      },
      "source": [
        "from bnlp import NLTKTokenizer\r\n",
        "\r\n",
        "all_words = []\r\n",
        "bnltk = NLTKTokenizer()\r\n",
        "\r\n",
        "\r\n",
        "for message in dataset['Text']:\r\n",
        "    word_tokens = bnltk.word_tokenize(message)\r\n",
        "    for w in word_tokens:\r\n",
        "        all_words.append(w)\r\n",
        "all_words"
      ],
      "execution_count": 139,
      "outputs": [
        {
          "output_type": "execute_result",
          "data": {
            "text/plain": [
              "['শিক্ষার্থীদের',\n",
              " 'আন্দোলনকে',\n",
              " 'ভিন্নখাতে',\n",
              " 'নিতে',\n",
              " 'নৈরাজ্য',\n",
              " 'করছে',\n",
              " 'ছাত্রলীগ',\n",
              " 'মাননীয়',\n",
              " 'প্রধান',\n",
              " 'মন্ত্রী',\n",
              " ',',\n",
              " ',কোন',\n",
              " 'আইন',\n",
              " 'আপনার',\n",
              " 'সুশাসনে',\n",
              " 'পরিনত',\n",
              " 'করেছেন',\n",
              " '?',\n",
              " 'শুধু',\n",
              " 'করেছেন',\n",
              " 'নিজের',\n",
              " 'ক্ষমতা',\n",
              " 'ধরে',\n",
              " 'রাখার',\n",
              " 'জন্য',\n",
              " ',',\n",
              " ',',\n",
              " ',',\n",
              " 'এই',\n",
              " 'দেশ',\n",
              " 'কারো',\n",
              " 'বাপ',\n",
              " 'দাদার',\n",
              " 'ভিটে',\n",
              " 'বাড়ি',\n",
              " 'নয়',\n",
              " ',',\n",
              " ',',\n",
              " ',',\n",
              " 'এটা',\n",
              " 'গনতান্ত্রিক',\n",
              " 'দেশ',\n",
              " ',',\n",
              " ',',\n",
              " ',',\n",
              " 'কাজেই',\n",
              " 'কারো',\n",
              " 'ক্ষমতা',\n",
              " 'চির',\n",
              " 'জীবনের',\n",
              " 'জন্য',\n",
              " 'নয়',\n",
              " ',',\n",
              " ',পরিবর্তন',\n",
              " 'হতেই',\n",
              " 'হবে',\n",
              " ',',\n",
              " ',',\n",
              " ',',\n",
              " 'তার',\n",
              " 'একমাত্র',\n",
              " 'সংবিধান',\n",
              " 'হচ্ছে',\n",
              " ',',\n",
              " ',জনগ',\n",
              " 'নের',\n",
              " 'ভোটাধিকার',\n",
              " 'নিশ্চিত',\n",
              " 'করা',\n",
              " ',',\n",
              " ',',\n",
              " ',',\n",
              " 'সুষ্ঠ',\n",
              " 'নির্বাচনের',\n",
              " 'পরিবেশ',\n",
              " 'তৈরী',\n",
              " 'করা',\n",
              " '।',\n",
              " 'নৈরাজ্য',\n",
              " 'সৃষ্টি',\n",
              " 'করে',\n",
              " 'দূর্নীতিবাজ',\n",
              " 'তারেক',\n",
              " 'রহমানকে',\n",
              " 'রক্ষা',\n",
              " 'করা',\n",
              " 'যাবে',\n",
              " 'না',\n",
              " 'বাংলাদেশ',\n",
              " 'নামটা',\n",
              " 'পরিবতন',\n",
              " 'করে',\n",
              " 'আওয়ামি',\n",
              " 'লীগ',\n",
              " 'দেশ',\n",
              " 'করা',\n",
              " 'দরকার',\n",
              " 'সময়',\n",
              " 'টিভি',\n",
              " 'আওয়ামী',\n",
              " 'লীগের',\n",
              " 'দালাল',\n",
              " 'সতর্ক',\n",
              " 'টাইগাররা',\n",
              " 'ব্র্যাথওয়েট',\n",
              " '‘',\n",
              " 'শো',\n",
              " '’',\n",
              " 'দেখলো',\n",
              " 'ক্রিকেট',\n",
              " 'নাজমুলের',\n",
              " 'ক্যারিয়ারের',\n",
              " 'প্রথম',\n",
              " 'ফিফটি',\n",
              " 'হ্যাটট্রিক',\n",
              " 'হয়ে',\n",
              " 'গেছে',\n",
              " 'বুঝতেই',\n",
              " 'পারেননি',\n",
              " 'তাহির',\n",
              " '!',\n",
              " 'বয়স',\n",
              " 'গোপন',\n",
              " 'করায়',\n",
              " 'ভারতীয়',\n",
              " 'ক্রিকেটার',\n",
              " 'নিষিদ্ধ',\n",
              " '!',\n",
              " 'বড়',\n",
              " \"ভাই'দের\",\n",
              " 'মতোই',\n",
              " 'ভারতের',\n",
              " 'কাছে',\n",
              " 'হারল',\n",
              " 'যুবারা',\n",
              " '!',\n",
              " 'অভিষেক',\n",
              " 'টেস্টেই',\n",
              " 'সব',\n",
              " 'রেকর্ড',\n",
              " 'ওলট',\n",
              " 'পালট',\n",
              " 'করে',\n",
              " 'দিলেন',\n",
              " 'পৃথ্বী',\n",
              " '!']"
            ]
          },
          "metadata": {
            "tags": []
          },
          "execution_count": 139
        }
      ]
    },
    {
      "cell_type": "code",
      "metadata": {
        "id": "-AM6r8ldPAHm"
      },
      "source": [
        "def find_features(message):\r\n",
        "    words = bnltk.word_tokenize(message)\r\n",
        "    features = {}\r\n",
        "    for word in all_words:\r\n",
        "        features[word] = (word in words)\r\n",
        "\r\n",
        "    return features"
      ],
      "execution_count": 145,
      "outputs": []
    },
    {
      "cell_type": "code",
      "metadata": {
        "id": "25DesWxoSWCG"
      },
      "source": [
        "# Now lets do it for all the messages\r\n",
        "import numpy as np\r\n",
        "\r\n",
        "messages = zip(dataset['Text'], Y)\r\n",
        "\r\n",
        "# define a seed for reproducibility\r\n",
        "seed = 1\r\n",
        "np.random.seed = seed\r\n",
        "\r\n",
        "# call find_features function for each SMS message\r\n",
        "featuresets = [(find_features(text), label) for (text, label) in messages]"
      ],
      "execution_count": 146,
      "outputs": []
    },
    {
      "cell_type": "code",
      "metadata": {
        "id": "WyGACvmSTsJN"
      },
      "source": [
        "\r\n",
        "# we can split the featuresets into training and testing datasets using sklearn\r\n",
        "from sklearn import model_selection\r\n",
        "\r\n",
        "# split the data into training and testing datasets\r\n",
        "training, testing = model_selection.train_test_split(featuresets, test_size = 0.1, random_state=seed)"
      ],
      "execution_count": 152,
      "outputs": []
    },
    {
      "cell_type": "code",
      "metadata": {
        "colab": {
          "base_uri": "https://localhost:8080/"
        },
        "id": "IVWYQWSUUBm7",
        "outputId": "009c9c56-a2b4-40d9-f812-147a82cd8923"
      },
      "source": [
        "print(len(training))\r\n",
        "print(len(testing))"
      ],
      "execution_count": 153,
      "outputs": [
        {
          "output_type": "stream",
          "text": [
            "10\n",
            "2\n"
          ],
          "name": "stdout"
        }
      ]
    },
    {
      "cell_type": "code",
      "metadata": {
        "colab": {
          "base_uri": "https://localhost:8080/"
        },
        "id": "K8cG-p_IUEY2",
        "outputId": "e53d4889-05b0-488f-c41f-16f979cb42b0"
      },
      "source": [
        "# We can use sklearn algorithms in NLTK\r\n",
        "from nltk.classify.scikitlearn import SklearnClassifier\r\n",
        "from sklearn.svm import SVC\r\n",
        "\r\n",
        "model = SklearnClassifier(SVC(kernel = 'linear'))\r\n",
        "\r\n",
        "# train the model on the training data\r\n",
        "model.train(training)\r\n",
        "\r\n",
        "# and test on the testing dataset!\r\n",
        "accuracy = nltk.classify.accuracy(model, testing)*100\r\n",
        "print(\"SVC Accuracy: {}\".format(accuracy))"
      ],
      "execution_count": 154,
      "outputs": [
        {
          "output_type": "stream",
          "text": [
            "SVC Accuracy: 0.0\n"
          ],
          "name": "stdout"
        }
      ]
    },
    {
      "cell_type": "code",
      "metadata": {
        "id": "0NizSsFaUNa3"
      },
      "source": [
        ""
      ],
      "execution_count": null,
      "outputs": []
    }
  ]
}